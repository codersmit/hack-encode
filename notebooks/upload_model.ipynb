{
 "cells": [
  {
   "cell_type": "code",
   "id": "initial_id",
   "metadata": {
    "collapsed": true,
    "ExecuteTime": {
     "end_time": "2024-10-27T02:50:38.938041Z",
     "start_time": "2024-10-27T02:50:37.432406Z"
    }
   },
   "source": "import aivm_client as aic",
   "outputs": [
    {
     "name": "stdout",
     "output_type": "stream",
     "text": [
      "Connecting to proxy localhost:50050\n"
     ]
    }
   ],
   "execution_count": 1
  },
  {
   "metadata": {
    "ExecuteTime": {
     "end_time": "2024-10-27T02:51:15.648757Z",
     "start_time": "2024-10-27T02:51:15.577206Z"
    }
   },
   "cell_type": "code",
   "source": [
    "MODEL_NAME = \"BertTinySentimentMARKET-REWORK-2\" # Name of the model to be used\n",
    "aic.upload_bert_tiny_model(\"../models/imdb_bert_tiny.onnx\", MODEL_NAME)"
   ],
   "id": "9577643ea98d21be",
   "outputs": [],
   "execution_count": 4
  },
  {
   "metadata": {
    "ExecuteTime": {
     "end_time": "2024-10-27T02:51:18.226387Z",
     "start_time": "2024-10-27T02:51:17.819835Z"
    }
   },
   "cell_type": "code",
   "source": [
    "tokenized_positive_inputs = aic.tokenize(\"DODGE COIN TO THE MOOON!\",)\n",
    "encrypted_positive_inputs = aic.BertTinyCryptensor(tokenized_positive_inputs[0], tokenized_positive_inputs[1])\n",
    "\n",
    "tokenized_negative_inputs = aic.tokenize(\"Interest rates increasing\")\n",
    "encrypted_negative_inputs = aic.BertTinyCryptensor(tokenized_negative_inputs[0], tokenized_negative_inputs[1])\n"
   ],
   "id": "d587fa3cdfbcd0ec",
   "outputs": [],
   "execution_count": 5
  },
  {
   "metadata": {
    "ExecuteTime": {
     "end_time": "2024-10-27T02:51:19.684783Z",
     "start_time": "2024-10-27T02:51:19.679528Z"
    }
   },
   "cell_type": "code",
   "source": "tokenized_positive_inputs[0].shape",
   "id": "81cae2b1aacccb26",
   "outputs": [
    {
     "data": {
      "text/plain": [
       "torch.Size([1, 128])"
      ]
     },
     "execution_count": 6,
     "metadata": {},
     "output_type": "execute_result"
    }
   ],
   "execution_count": 6
  },
  {
   "metadata": {
    "ExecuteTime": {
     "end_time": "2024-10-27T02:51:28.714892Z",
     "start_time": "2024-10-27T02:51:21.083654Z"
    }
   },
   "cell_type": "code",
   "source": [
    "%%time\n",
    "result_positive = aic.get_prediction(encrypted_positive_inputs, MODEL_NAME)\n",
    "result_negative = aic.get_prediction(encrypted_negative_inputs, MODEL_NAME)\n",
    "\n",
    "print(\"Positive review prediction: \", result_positive)\n",
    "print(\"Negative review prediction: \", result_negative)"
   ],
   "id": "281eb6c4e71aab6",
   "outputs": [
    {
     "name": "stdout",
     "output_type": "stream",
     "text": [
      "Positive review prediction:  tensor([[-0.2027,  0.1208]])\n",
      "Negative review prediction:  tensor([[-0.2398,  0.0225]])\n",
      "CPU times: user 7 ms, sys: 5.74 ms, total: 12.7 ms\n",
      "Wall time: 7.63 s\n"
     ]
    }
   ],
   "execution_count": 7
  },
  {
   "metadata": {},
   "cell_type": "markdown",
   "source": "",
   "id": "6ef2275cce1fb25a"
  },
  {
   "metadata": {},
   "cell_type": "code",
   "source": "result_positive.numpy().argmax()",
   "id": "78c01d8046a0b9e6",
   "outputs": [],
   "execution_count": null
  },
  {
   "metadata": {},
   "cell_type": "code",
   "source": "",
   "id": "7225c2d386e3f507",
   "outputs": [],
   "execution_count": null
  }
 ],
 "metadata": {
  "kernelspec": {
   "display_name": "Python 3",
   "language": "python",
   "name": "python3"
  },
  "language_info": {
   "codemirror_mode": {
    "name": "ipython",
    "version": 2
   },
   "file_extension": ".py",
   "mimetype": "text/x-python",
   "name": "python",
   "nbconvert_exporter": "python",
   "pygments_lexer": "ipython2",
   "version": "2.7.6"
  }
 },
 "nbformat": 4,
 "nbformat_minor": 5
}
