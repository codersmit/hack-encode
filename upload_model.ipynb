{
 "cells": [
  {
   "cell_type": "code",
   "id": "initial_id",
   "metadata": {
    "collapsed": true,
    "ExecuteTime": {
     "end_time": "2024-10-26T15:11:51.131679Z",
     "start_time": "2024-10-26T15:11:48.946977Z"
    }
   },
   "source": [
    "import torch\n",
    "import torchvision.datasets as dset\n",
    "import torchvision.transforms as transforms\n",
    "import matplotlib.pyplot as plt\n",
    "\n",
    "import aivm_client as aic"
   ],
   "outputs": [
    {
     "name": "stdout",
     "output_type": "stream",
     "text": [
      "Connecting to proxy localhost:50050\n"
     ]
    }
   ],
   "execution_count": 1
  },
  {
   "metadata": {
    "ExecuteTime": {
     "end_time": "2024-10-26T15:11:52.115347Z",
     "start_time": "2024-10-26T15:11:52.058116Z"
    }
   },
   "cell_type": "code",
   "source": [
    "MODEL_NAME = \"BertTinySentimentMARKET\" # Name of the model to be used\n",
    "aic.upload_bert_tiny_model(\"./my_new_bert_model (1).onnx\", MODEL_NAME) # Upload the model to the server"
   ],
   "id": "9577643ea98d21be",
   "outputs": [],
   "execution_count": 2
  },
  {
   "metadata": {
    "ExecuteTime": {
     "end_time": "2024-10-26T15:11:53.479764Z",
     "start_time": "2024-10-26T15:11:53.186355Z"
    }
   },
   "cell_type": "code",
   "source": [
    "tokenized_positive_inputs = aic.tokenize(\"DODGE COIN TO THE MOOON!\",)\n",
    "encrypted_positive_inputs = aic.BertTinyCryptensor(tokenized_positive_inputs[0], tokenized_positive_inputs[1])\n",
    "\n",
    "tokenized_negative_inputs = aic.tokenize(\"Interest rates increasing\")\n",
    "encrypted_negative_inputs = aic.BertTinyCryptensor(tokenized_negative_inputs[0], tokenized_negative_inputs[1])\n"
   ],
   "id": "d587fa3cdfbcd0ec",
   "outputs": [],
   "execution_count": 3
  },
  {
   "metadata": {
    "ExecuteTime": {
     "end_time": "2024-10-26T15:12:07.746834Z",
     "start_time": "2024-10-26T15:11:54.073420Z"
    }
   },
   "cell_type": "code",
   "source": [
    "%%time\n",
    "result_positive = aic.get_prediction(encrypted_positive_inputs, MODEL_NAME)\n",
    "result_negative = aic.get_prediction(encrypted_negative_inputs, MODEL_NAME)\n",
    "\n",
    "print(\"Positive review prediction: \", result_positive)\n",
    "print(\"Negative review prediction: \", result_negative)"
   ],
   "id": "281eb6c4e71aab6",
   "outputs": [
    {
     "name": "stdout",
     "output_type": "stream",
     "text": [
      "Positive review prediction:  tensor([[-0.2189,  0.4882, -0.0434]])\n",
      "Negative review prediction:  tensor([[-0.0155,  0.5866, -0.0824]])\n",
      "CPU times: user 9.34 ms, sys: 8.07 ms, total: 17.4 ms\n",
      "Wall time: 13.7 s\n"
     ]
    }
   ],
   "execution_count": 4
  },
  {
   "metadata": {},
   "cell_type": "markdown",
   "source": "",
   "id": "6ef2275cce1fb25a"
  },
  {
   "metadata": {
    "ExecuteTime": {
     "end_time": "2024-10-26T15:37:12.241323Z",
     "start_time": "2024-10-26T15:37:12.237233Z"
    }
   },
   "cell_type": "code",
   "source": "result_positive.numpy().argmax()",
   "id": "78c01d8046a0b9e6",
   "outputs": [
    {
     "data": {
      "text/plain": [
       "1"
      ]
     },
     "execution_count": 13,
     "metadata": {},
     "output_type": "execute_result"
    }
   ],
   "execution_count": 13
  },
  {
   "metadata": {},
   "cell_type": "code",
   "outputs": [],
   "execution_count": null,
   "source": "",
   "id": "7225c2d386e3f507"
  }
 ],
 "metadata": {
  "kernelspec": {
   "display_name": "Python 3",
   "language": "python",
   "name": "python3"
  },
  "language_info": {
   "codemirror_mode": {
    "name": "ipython",
    "version": 2
   },
   "file_extension": ".py",
   "mimetype": "text/x-python",
   "name": "python",
   "nbconvert_exporter": "python",
   "pygments_lexer": "ipython2",
   "version": "2.7.6"
  }
 },
 "nbformat": 4,
 "nbformat_minor": 5
}
